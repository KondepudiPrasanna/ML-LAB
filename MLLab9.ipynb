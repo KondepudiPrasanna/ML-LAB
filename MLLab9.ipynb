{
  "nbformat": 4,
  "nbformat_minor": 0,
  "metadata": {
    "colab": {
      "provenance": [],
      "include_colab_link": true
    },
    "kernelspec": {
      "name": "python3",
      "display_name": "Python 3"
    },
    "language_info": {
      "name": "python"
    }
  },
  "cells": [
    {
      "cell_type": "markdown",
      "metadata": {
        "id": "view-in-github",
        "colab_type": "text"
      },
      "source": [
        "<a href=\"https://colab.research.google.com/github/KondepudiPrasanna/ML-LAB/blob/main/MLLab9.ipynb\" target=\"_parent\"><img src=\"https://colab.research.google.com/assets/colab-badge.svg\" alt=\"Open In Colab\"/></a>"
      ]
    },
    {
      "cell_type": "markdown",
      "source": [
        "Locally Weighted Regression (LWR): LWR is a non-parametric method that adapts the model locally to the data points, assigning different weights to different points based on their proximity to the target point. In this blog post, we’ll delve into the intricacies of Locally Weighted Regression, understand its mechanics, and explore its application\n",
        "\n",
        "Locally Weighted Regression (LWR) is a type of regression analysis used when the data exhibit heteroscedasticity, meaning the variance around the regression line is not constant. Unlike traditional regression methods that globally fit a function to all data points, LWR fits a separate regression model for each query point, with the model’s parameters dependent on that query point.\n",
        "\n",
        "Steps involved in locally weighted linear regression are:\n",
        "\n",
        "Compute to minimize the cost. image.png\n",
        "\n",
        "Predict Output: for given query point x,image.png\n",
        "\n",
        "9.Implement the non-parametric Locally Weighted Regression algorithm in order to fit datapoints. Select appropriate data set for your experiment and draw graphs."
      ],
      "metadata": {
        "id": "TpnoFLnSX8IH"
      }
    },
    {
      "cell_type": "code",
      "source": [
        "# Import necessary libraries\n",
        "import pandas as pd\n",
        "import numpy as np\n",
        "import matplotlib.pyplot as plt\n",
        "import seaborn as sns\n",
        "from scipy.stats import pearsonr\n",
        "\n",
        "# Load data points\n",
        "data = pd.read_csv('/content/Lab9.csv')\n",
        "\n",
        "# If you want to print a specific number of rows (e.g., the first 10 rows)\n",
        "print(data.head(10))\n",
        "\n",
        "print(\"\\n\" * 2)\n",
        "\n",
        "# Basic EDA\n",
        "print(\"Basic Statistics:\")\n",
        "print(data.describe())\n",
        "\n",
        "# Visualize distributions of total_bill and tip\n",
        "plt.figure(figsize=(14, 6))\n",
        "\n",
        "# Histogram for total_bill\n",
        "plt.subplot(1, 2, 1)\n",
        "sns.histplot(data['total_bill'], bins=20, kde=True, color='blue')\n",
        "plt.title('Distribution of Total Bill')\n",
        "plt.xlabel('Total Bill')\n",
        "plt.ylabel('Frequency')\n",
        "\n",
        "# Histogram for tip\n",
        "plt.subplot(1, 2, 2)\n",
        "sns.histplot(data['tip'], bins=20, kde=True, color='green')\n",
        "plt.title('Distribution of Tips')\n",
        "plt.xlabel('Tip')\n",
        "plt.ylabel('Frequency')\n",
        "\n",
        "plt.tight_layout()\n",
        "plt.show()"
      ],
      "metadata": {
        "colab": {
          "base_uri": "https://localhost:8080/",
          "height": 356
        },
        "id": "G65xWSTcYOfw",
        "outputId": "dc636a3e-72c1-47b7-f96a-c72b0304c8bd"
      },
      "execution_count": 1,
      "outputs": [
        {
          "output_type": "error",
          "ename": "FileNotFoundError",
          "evalue": "[Errno 2] No such file or directory: '/content/Lab9.csv'",
          "traceback": [
            "\u001b[0;31m---------------------------------------------------------------------------\u001b[0m",
            "\u001b[0;31mFileNotFoundError\u001b[0m                         Traceback (most recent call last)",
            "\u001b[0;32m<ipython-input-1-5410ccecd7db>\u001b[0m in \u001b[0;36m<cell line: 9>\u001b[0;34m()\u001b[0m\n\u001b[1;32m      7\u001b[0m \u001b[0;34m\u001b[0m\u001b[0m\n\u001b[1;32m      8\u001b[0m \u001b[0;31m# Load data points\u001b[0m\u001b[0;34m\u001b[0m\u001b[0;34m\u001b[0m\u001b[0m\n\u001b[0;32m----> 9\u001b[0;31m \u001b[0mdata\u001b[0m \u001b[0;34m=\u001b[0m \u001b[0mpd\u001b[0m\u001b[0;34m.\u001b[0m\u001b[0mread_csv\u001b[0m\u001b[0;34m(\u001b[0m\u001b[0;34m'/content/Lab9.csv'\u001b[0m\u001b[0;34m)\u001b[0m\u001b[0;34m\u001b[0m\u001b[0;34m\u001b[0m\u001b[0m\n\u001b[0m\u001b[1;32m     10\u001b[0m \u001b[0;34m\u001b[0m\u001b[0m\n\u001b[1;32m     11\u001b[0m \u001b[0;31m# If you want to print a specific number of rows (e.g., the first 10 rows)\u001b[0m\u001b[0;34m\u001b[0m\u001b[0;34m\u001b[0m\u001b[0m\n",
            "\u001b[0;32m/usr/local/lib/python3.10/dist-packages/pandas/io/parsers/readers.py\u001b[0m in \u001b[0;36mread_csv\u001b[0;34m(filepath_or_buffer, sep, delimiter, header, names, index_col, usecols, dtype, engine, converters, true_values, false_values, skipinitialspace, skiprows, skipfooter, nrows, na_values, keep_default_na, na_filter, verbose, skip_blank_lines, parse_dates, infer_datetime_format, keep_date_col, date_parser, date_format, dayfirst, cache_dates, iterator, chunksize, compression, thousands, decimal, lineterminator, quotechar, quoting, doublequote, escapechar, comment, encoding, encoding_errors, dialect, on_bad_lines, delim_whitespace, low_memory, memory_map, float_precision, storage_options, dtype_backend)\u001b[0m\n\u001b[1;32m   1024\u001b[0m     \u001b[0mkwds\u001b[0m\u001b[0;34m.\u001b[0m\u001b[0mupdate\u001b[0m\u001b[0;34m(\u001b[0m\u001b[0mkwds_defaults\u001b[0m\u001b[0;34m)\u001b[0m\u001b[0;34m\u001b[0m\u001b[0;34m\u001b[0m\u001b[0m\n\u001b[1;32m   1025\u001b[0m \u001b[0;34m\u001b[0m\u001b[0m\n\u001b[0;32m-> 1026\u001b[0;31m     \u001b[0;32mreturn\u001b[0m \u001b[0m_read\u001b[0m\u001b[0;34m(\u001b[0m\u001b[0mfilepath_or_buffer\u001b[0m\u001b[0;34m,\u001b[0m \u001b[0mkwds\u001b[0m\u001b[0;34m)\u001b[0m\u001b[0;34m\u001b[0m\u001b[0;34m\u001b[0m\u001b[0m\n\u001b[0m\u001b[1;32m   1027\u001b[0m \u001b[0;34m\u001b[0m\u001b[0m\n\u001b[1;32m   1028\u001b[0m \u001b[0;34m\u001b[0m\u001b[0m\n",
            "\u001b[0;32m/usr/local/lib/python3.10/dist-packages/pandas/io/parsers/readers.py\u001b[0m in \u001b[0;36m_read\u001b[0;34m(filepath_or_buffer, kwds)\u001b[0m\n\u001b[1;32m    618\u001b[0m \u001b[0;34m\u001b[0m\u001b[0m\n\u001b[1;32m    619\u001b[0m     \u001b[0;31m# Create the parser.\u001b[0m\u001b[0;34m\u001b[0m\u001b[0;34m\u001b[0m\u001b[0m\n\u001b[0;32m--> 620\u001b[0;31m     \u001b[0mparser\u001b[0m \u001b[0;34m=\u001b[0m \u001b[0mTextFileReader\u001b[0m\u001b[0;34m(\u001b[0m\u001b[0mfilepath_or_buffer\u001b[0m\u001b[0;34m,\u001b[0m \u001b[0;34m**\u001b[0m\u001b[0mkwds\u001b[0m\u001b[0;34m)\u001b[0m\u001b[0;34m\u001b[0m\u001b[0;34m\u001b[0m\u001b[0m\n\u001b[0m\u001b[1;32m    621\u001b[0m \u001b[0;34m\u001b[0m\u001b[0m\n\u001b[1;32m    622\u001b[0m     \u001b[0;32mif\u001b[0m \u001b[0mchunksize\u001b[0m \u001b[0;32mor\u001b[0m \u001b[0miterator\u001b[0m\u001b[0;34m:\u001b[0m\u001b[0;34m\u001b[0m\u001b[0;34m\u001b[0m\u001b[0m\n",
            "\u001b[0;32m/usr/local/lib/python3.10/dist-packages/pandas/io/parsers/readers.py\u001b[0m in \u001b[0;36m__init__\u001b[0;34m(self, f, engine, **kwds)\u001b[0m\n\u001b[1;32m   1618\u001b[0m \u001b[0;34m\u001b[0m\u001b[0m\n\u001b[1;32m   1619\u001b[0m         \u001b[0mself\u001b[0m\u001b[0;34m.\u001b[0m\u001b[0mhandles\u001b[0m\u001b[0;34m:\u001b[0m \u001b[0mIOHandles\u001b[0m \u001b[0;34m|\u001b[0m \u001b[0;32mNone\u001b[0m \u001b[0;34m=\u001b[0m \u001b[0;32mNone\u001b[0m\u001b[0;34m\u001b[0m\u001b[0;34m\u001b[0m\u001b[0m\n\u001b[0;32m-> 1620\u001b[0;31m         \u001b[0mself\u001b[0m\u001b[0;34m.\u001b[0m\u001b[0m_engine\u001b[0m \u001b[0;34m=\u001b[0m \u001b[0mself\u001b[0m\u001b[0;34m.\u001b[0m\u001b[0m_make_engine\u001b[0m\u001b[0;34m(\u001b[0m\u001b[0mf\u001b[0m\u001b[0;34m,\u001b[0m \u001b[0mself\u001b[0m\u001b[0;34m.\u001b[0m\u001b[0mengine\u001b[0m\u001b[0;34m)\u001b[0m\u001b[0;34m\u001b[0m\u001b[0;34m\u001b[0m\u001b[0m\n\u001b[0m\u001b[1;32m   1621\u001b[0m \u001b[0;34m\u001b[0m\u001b[0m\n\u001b[1;32m   1622\u001b[0m     \u001b[0;32mdef\u001b[0m \u001b[0mclose\u001b[0m\u001b[0;34m(\u001b[0m\u001b[0mself\u001b[0m\u001b[0;34m)\u001b[0m \u001b[0;34m->\u001b[0m \u001b[0;32mNone\u001b[0m\u001b[0;34m:\u001b[0m\u001b[0;34m\u001b[0m\u001b[0;34m\u001b[0m\u001b[0m\n",
            "\u001b[0;32m/usr/local/lib/python3.10/dist-packages/pandas/io/parsers/readers.py\u001b[0m in \u001b[0;36m_make_engine\u001b[0;34m(self, f, engine)\u001b[0m\n\u001b[1;32m   1878\u001b[0m                 \u001b[0;32mif\u001b[0m \u001b[0;34m\"b\"\u001b[0m \u001b[0;32mnot\u001b[0m \u001b[0;32min\u001b[0m \u001b[0mmode\u001b[0m\u001b[0;34m:\u001b[0m\u001b[0;34m\u001b[0m\u001b[0;34m\u001b[0m\u001b[0m\n\u001b[1;32m   1879\u001b[0m                     \u001b[0mmode\u001b[0m \u001b[0;34m+=\u001b[0m \u001b[0;34m\"b\"\u001b[0m\u001b[0;34m\u001b[0m\u001b[0;34m\u001b[0m\u001b[0m\n\u001b[0;32m-> 1880\u001b[0;31m             self.handles = get_handle(\n\u001b[0m\u001b[1;32m   1881\u001b[0m                 \u001b[0mf\u001b[0m\u001b[0;34m,\u001b[0m\u001b[0;34m\u001b[0m\u001b[0;34m\u001b[0m\u001b[0m\n\u001b[1;32m   1882\u001b[0m                 \u001b[0mmode\u001b[0m\u001b[0;34m,\u001b[0m\u001b[0;34m\u001b[0m\u001b[0;34m\u001b[0m\u001b[0m\n",
            "\u001b[0;32m/usr/local/lib/python3.10/dist-packages/pandas/io/common.py\u001b[0m in \u001b[0;36mget_handle\u001b[0;34m(path_or_buf, mode, encoding, compression, memory_map, is_text, errors, storage_options)\u001b[0m\n\u001b[1;32m    871\u001b[0m         \u001b[0;32mif\u001b[0m \u001b[0mioargs\u001b[0m\u001b[0;34m.\u001b[0m\u001b[0mencoding\u001b[0m \u001b[0;32mand\u001b[0m \u001b[0;34m\"b\"\u001b[0m \u001b[0;32mnot\u001b[0m \u001b[0;32min\u001b[0m \u001b[0mioargs\u001b[0m\u001b[0;34m.\u001b[0m\u001b[0mmode\u001b[0m\u001b[0;34m:\u001b[0m\u001b[0;34m\u001b[0m\u001b[0;34m\u001b[0m\u001b[0m\n\u001b[1;32m    872\u001b[0m             \u001b[0;31m# Encoding\u001b[0m\u001b[0;34m\u001b[0m\u001b[0;34m\u001b[0m\u001b[0m\n\u001b[0;32m--> 873\u001b[0;31m             handle = open(\n\u001b[0m\u001b[1;32m    874\u001b[0m                 \u001b[0mhandle\u001b[0m\u001b[0;34m,\u001b[0m\u001b[0;34m\u001b[0m\u001b[0;34m\u001b[0m\u001b[0m\n\u001b[1;32m    875\u001b[0m                 \u001b[0mioargs\u001b[0m\u001b[0;34m.\u001b[0m\u001b[0mmode\u001b[0m\u001b[0;34m,\u001b[0m\u001b[0;34m\u001b[0m\u001b[0;34m\u001b[0m\u001b[0m\n",
            "\u001b[0;31mFileNotFoundError\u001b[0m: [Errno 2] No such file or directory: '/content/Lab9.csv'"
          ]
        }
      ]
    },
    {
      "cell_type": "code",
      "source": [
        "# Kernel function for weighting the points based on distance\n",
        "def kernel(point, xmat, k):\n",
        "    m, n = np.shape(xmat)\n",
        "    weights = np.mat(np.eye(m))\n",
        "    for j in range(m):\n",
        "        diff = point - xmat[j]\n",
        "        weights[j, j] = np.exp(diff * diff.T / (-2.0 * k ** 2))\n",
        "    return weights\n",
        "\n",
        "# Function for calculating local weight\n",
        "def localWeight(point, xmat, ymat, k):\n",
        "    wei = kernel(point, xmat, k)\n",
        "    XTWX = xmat.T @ (wei @ xmat)\n",
        "\n",
        "    # Add regularization to prevent singular matrix error\n",
        "    regularization = 1e-5 * np.eye(XTWX.shape[0])\n",
        "\n",
        "    W = np.linalg.pinv(XTWX + regularization) @ (xmat.T @ (wei @ ymat.T))\n",
        "    return W\n",
        "\n",
        "# Locally weighted regression function\n",
        "def localWeightRegression(xmat, ymat, k):\n",
        "    m, n = np.shape(xmat)\n",
        "    ypred = np.zeros(m)\n",
        "    for i in range(m):\n",
        "        ypred[i] = xmat[i] @ localWeight(xmat[i], xmat, ymat, k)\n",
        "    return ypred\n",
        "\n",
        "# Preparing data and adding a column of ones to the bill (for bias term)\n",
        "bill = np.array(data.total_bill)\n",
        "tip = np.array(data.tip)\n",
        "mbill = np.mat(bill)\n",
        "mtip = np.mat(tip)  # Convert to 2-dimensional array\n",
        "m = np.shape(mbill)[1]\n",
        "\n",
        "# Add a column of ones to the feature matrix\n",
        "one = np.mat(np.ones(m))\n",
        "X = np.hstack((one.T, mbill.T))  # Stack ones and bill to create X matrix\n",
        "\n",
        "# Set the bandwidth parameter k\n",
        "ypred = localWeightRegression(X, mtip, 0.3)\n",
        "\n",
        "# Sort values for plotting\n",
        "SortIndex = X[:, 1].argsort(0)\n",
        "xsort = X[SortIndex][:, 0]\n",
        "\n",
        "# Calculate accuracy metrics\n",
        "def mean_absolute_error(y_true, y_pred):\n",
        "    return np.mean(np.abs(y_true - y_pred))\n",
        "\n",
        "def r_squared(y_true, y_pred):\n",
        "    ss_total = np.sum((y_true - np.mean(y_true)) ** 2)\n",
        "    ss_residual = np.sum((y_true - y_pred) ** 2)\n",
        "    return 1 - (ss_residual / ss_total)\n",
        "\n",
        "mae = mean_absolute_error(tip, ypred)\n",
        "r2 = r_squared(tip, ypred)\n",
        "\n",
        "# Display accuracy metrics\n",
        "print(f\"Mean Absolute Error (MAE): {mae:.4f}\")\n",
        "print(f\"R-squared (R²): {r2:.4f}\")\n",
        "\n",
        "# Plot the data points and the locally weighted regression curve\n",
        "fig = plt.figure(figsize=(10, 6))  # Increase the figure size for better visibility\n",
        "ax = fig.add_subplot(1, 1, 1)\n",
        "\n",
        "# Change scatter plot style\n",
        "ax.scatter(bill, tip, color='orange', edgecolor='black', s=80, marker='o', label='Data Points')\n",
        "\n",
        "# Change line style for regression curve\n",
        "ax.plot(xsort[:, 1], ypred[SortIndex], color='red', linewidth=2, linestyle='--', label='Locally Weighted Regression')\n",
        "\n",
        "# Add grid for better readability\n",
        "ax.grid(True)\n",
        "\n",
        "# Add title and legend\n",
        "plt.title('Locally Weighted Regression')\n",
        "plt.xlabel('Total Bill')\n",
        "plt.ylabel('Tips')\n",
        "plt.legend()\n",
        "plt.tight_layout()  # Adjust layout to make room for labels\n",
        "plt.show()"
      ],
      "metadata": {
        "id": "jgrVmpIyYXA9"
      },
      "execution_count": null,
      "outputs": []
    }
  ]
}